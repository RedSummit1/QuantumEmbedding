{
 "cells": [
  {
   "cell_type": "markdown",
   "id": "236b25a4-0a30-4e13-bf29-0c9e44526672",
   "metadata": {},
   "source": [
    "### First we begin importing the Python libraries.\n",
    "#### <a href=\"https://pennylane.ai/\">Pennylane</a> is an awesome resource for Quantum Python packages.\n",
    "#### The text embedding model was used from <a href=\"https://platform.openai.com/\">OpenAi </a>to vectorize data."
   ]
  },
  {
   "cell_type": "code",
   "execution_count": 1,
   "id": "a1ec76a1-cf5d-404a-ad46-85a84c74027c",
   "metadata": {},
   "outputs": [],
   "source": [
    "# Quantum computing python libraries\n",
    "import pennylane as qml \n",
    "from pennylane import numpy as np\n",
    "from pennylane.templates import AmplitudeEmbedding, BasisEmbedding, AngleEmbedding\n",
    "\n",
    "# LLM/Openai python libaraies\n",
    "from openai import OpenAI\n",
    "import pandas as pd\n",
    "client = OpenAI(api_key=\"\")\n"
   ]
  },
  {
   "cell_type": "markdown",
   "id": "5908f6bc-3b0a-48e5-abf1-5b09c3082742",
   "metadata": {},
   "source": [
    "### We used the **cosine similarity** formula to compare vector embeddings\n",
    "\n",
    "$$\\text{cosine\\_similarity}(\\mathbf{a}, \\mathbf{b}) = \\frac{\\mathbf{a} \\cdot \\mathbf{b}}{\\|\\mathbf{a}\\| \\|\\mathbf{b}\\|}$$"
   ]
  },
  {
   "cell_type": "code",
   "execution_count": 2,
   "id": "6a30ad0f-ce03-4f25-a60d-64450a718a94",
   "metadata": {},
   "outputs": [],
   "source": [
    "# Functions for LLM portion of test\n",
    "\n",
    "def generate_embedding(text,dimensions=25): # Converts the input text into a vector embedding\n",
    "    response = client.embeddings.create(input=text,model=\"text-embedding-3-small\",dimensions=dimensions)\n",
    "    return np.array(response.data[0].embedding)\n",
    "    \n",
    "def cosine_similarity(u, v) -> float: # Performs cosine_similarity between the vectorized input text and the vectorized data\n",
    "    dot_product = np.dot(u, v)\n",
    "    norm_u = np.linalg.norm(u)\n",
    "    norm_v = np.linalg.norm(v)\n",
    "    return dot_product / (norm_u * norm_v)\n",
    "\n",
    "def show_similarities(input_text,df) -> list: # Returns a list of th first 5 most common elements from the cosine similarity\n",
    "    input_embedding = generate_embedding(input_text,1536)\n",
    "    similarites = {key:cosine_similarity(input_embedding,value) for key,value in df.loc[:,[\"ProductId\",\"embedding\"]].values.reshape(-1,2)}\n",
    "    return sorted(similarites,key=similarites.get,reverse=True)[:5]\n",
    "    "
   ]
  },
  {
   "cell_type": "code",
   "execution_count": 3,
   "id": "31918df3-eac1-464c-a0d6-527309b29b08",
   "metadata": {},
   "outputs": [],
   "source": [
    "# Read sample csv file to Data Frame\n",
    "df = pd.read_csv(\"fine_food_reviews_with_embeddings_1k.csv\") \n",
    "\n",
    "# Embeddings were read as strings, convert to float\n",
    "df[\"embedding\"] = df[\"embedding\"].apply(lambda x: np.array([float(val) for val in x[1:-1].split(\",\")]))"
   ]
  },
  {
   "cell_type": "code",
   "execution_count": 4,
   "id": "fe015a1e-30ca-4a90-bafd-187720a5fac2",
   "metadata": {},
   "outputs": [
    {
     "data": {
      "text/plain": [
       "0      [0.03599238395690918, -0.02116263099014759, -0...\n",
       "1      [-0.07042013108730316, -0.03175969794392586, -...\n",
       "2      [0.05692615360021591, -0.005402443464845419, 0...\n",
       "3      [-0.011223138310015202, -0.049720242619514465,...\n",
       "4      [0.05692615360021591, -0.005402443464845419, 0...\n",
       "                             ...                        \n",
       "995    [-0.04803164303302765, 0.04621649533510208, 0....\n",
       "996    [0.02654704451560974, -0.027484629303216934, -...\n",
       "997    [-0.011052397079765797, -0.029021456837654114,...\n",
       "998    [-0.0058358414098620415, 0.021213747560977936,...\n",
       "999    [0.019206926226615906, -0.019285108894109726, ...\n",
       "Name: embedding, Length: 1000, dtype: object"
      ]
     },
     "execution_count": 4,
     "metadata": {},
     "output_type": "execute_result"
    }
   ],
   "source": [
    "# Result\n",
    "df[\"embedding\"]"
   ]
  },
  {
   "cell_type": "code",
   "execution_count": 18,
   "id": "7288df88-a7de-4064-b162-11d47545d01b",
   "metadata": {},
   "outputs": [
    {
     "data": {
      "text/plain": [
       "tensor([ 0.0937627 , -0.21216166, -0.05695323,  0.08791763,  0.04480417,\n",
       "         0.08753118, -0.31843573,  0.29969284, -0.08279715,  0.09236182,\n",
       "         0.0506251 ,  0.19998845, -0.25467128, -0.09400424,  0.12405081,\n",
       "         0.38625789, -0.27727866,  0.16491802, -0.04731611,  0.11380985,\n",
       "         0.45330715,  0.09023634, -0.10173325, -0.18713894,  0.24462356], requires_grad=True)"
      ]
     },
     "execution_count": 18,
     "metadata": {},
     "output_type": "execute_result"
    }
   ],
   "source": [
    "generate_embedding(\"\")"
   ]
  },
  {
   "cell_type": "code",
   "execution_count": 5,
   "id": "898b9ce9-6037-498d-ae0c-a82d0b959e35",
   "metadata": {},
   "outputs": [
    {
     "data": {
      "text/plain": [
       "Index(['Unnamed: 0', 'ProductId', 'UserId', 'Score', 'Summary', 'Text',\n",
       "       'combined', 'n_tokens', 'embedding'],\n",
       "      dtype='object')"
      ]
     },
     "execution_count": 5,
     "metadata": {},
     "output_type": "execute_result"
    }
   ],
   "source": [
    "df.columns"
   ]
  },
  {
   "cell_type": "code",
   "execution_count": 19,
   "id": "a75d7460-7eb7-4ba5-965e-1426737289a6",
   "metadata": {},
   "outputs": [
    {
     "name": "stdout",
     "output_type": "stream",
     "text": [
      "1) I absolutely love this hot cocoa! Our office purchased a Keurig brewer about a year ago, and while the brewer is fancy and very nice, I never had an opportunity to use it until now. You see, I'm not a coffee drinker at all. Coffee makes me jittery all day and I feel like my bones and veins are vibrating. Not what I need when I work with high schoolers all day! This hot chocolate k-cup is a perfect treat for me, especially now that the mornings in Southern California are a little cooler and crisper. The chocolate flavor is well balanced, not too rich and definitely not too \"pasty\". I hate it when the powder mixes have leave the residue in the bottom of the cup. I usually make my hot chocolate with milk when I use powder, but with this k-cup, water is just fine. I definitely plan on buying more all year!\n",
      "\n",
      "2) Great coffee!  Love all Green Mountain coffee and all the wonderful flavors.  Would and do recommend this coffee to all my friends.\n",
      "\n",
      "3) I purchased this to send to my son who's away at college. It was delivered right to his dorm room with very fast shipping. He loved it so much he called me to thank me, and sadly, he hardly ever calls me anymore! If you want your kids to call home, and have some good snack to get them through midterms then send them this.\n",
      "\n",
      "4) I love the KIND bars.  They taste great and are much healthier than other bars.  Also they satisfy your taste for something sweet so are healthier than eating candy.\n",
      "\n",
      "5) I was on a mission to reduce my cholesterol through healthy eating and improve the quality of my breakfast choices.  I've tried several of Bob's Red Mill cereals and they are ALL absolutely fantastic!  This cereal has a delicious flavor and creamy texture.  I usually add some dried fruit and raw almonds to give it another flavor dimension.  Even by itself it is superior to \"quick\" oats and other grocery store breakfast choices.  On a side note I enjoy supporting the little guys and a simple Google search will show you what a good company Bob's Red Mill is.  Kudos!\n",
      "\n"
     ]
    }
   ],
   "source": [
    "# Lets test it out!!\n",
    "\n",
    "for i,ID in enumerate(show_similarities(\"York College\",df)):\n",
    "    similar_text = df[df[\"ProductId\"] == ID][\"Text\"].values\n",
    "    print(f\"{i+1}) {similar_text[0]}\\n\")\n",
    "    "
   ]
  },
  {
   "cell_type": "markdown",
   "id": "af25eb3e-6c14-477f-aeb8-0827de38d7d6",
   "metadata": {},
   "source": [
    "# Now with <span style=\"color: #a742e8;\">Quantum</span>\n",
    "\n",
    "## In this test we will use the angle encoding to embed the vectorized data\n",
    "\n",
    "#### We will use this to compare what is and is not a fruit"
   ]
  },
  {
   "cell_type": "code",
   "execution_count": 7,
   "id": "5ba72d10-2543-4e5d-b740-93f3a37701ce",
   "metadata": {},
   "outputs": [],
   "source": [
    "# Functions for Quantum Embedding portion of test\n",
    "\n",
    "# Amplitude Encoding\n",
    "wires = range(25) # Quantum states >25 will freeze my computer\n",
    "\n",
    "amp_dev = qml.device(\"default.qubit\",wires) # Creating the quantum system for Amplitude Embedding\n",
    "angle_dev = qml.device(\"default.qubit\",wires) # Creating the quantum system for Angle Embedding\n",
    "\n",
    "# Pass in encoder function object \n",
    "@qml.qnode(amp_dev) \n",
    "def amp_encoder(data):\n",
    "    qml.AmplitudeEmbedding(data,wires,pad_with=0,normalize=True)\n",
    "    return qml.state()\n",
    "\n",
    "## Angle Encoding\n",
    "@qml.qnode(angle_dev)\n",
    "def angle_encoder(data):\n",
    "    qml.AngleEmbedding(features=data,wires=wires,rotation=\"X\")\n",
    "    return qml.state()\n",
    "\n",
    "def QuantumEmbedder(term): # Converts a string or a collection of strings into quantum embeddings\n",
    "    if \"__iter__\" in dir(term) and not isinstance(term,str):\n",
    "        embedding = list(map(generate_embedding,term))\n",
    "        embedding = list(map(amp_encoder,embedding))\n",
    "    else:\n",
    "        embedding = amp_encoder(generate_embedding(str(term)))\n",
    "    return embedding\n",
    "\n",
    "def quantum_similarity(compare,comparand): # Perform comparison \n",
    "    test = {key:cosine_similarity(comparand.get(compare),val) for key,val in comparand.items()}\n",
    "    return sorted(test,key=test.get,reverse=True)[1:6]\n",
    "    \n",
    "    \n",
    "    "
   ]
  },
  {
   "cell_type": "code",
   "execution_count": 8,
   "id": "9abc48b7-8794-446a-a4c3-edf4423b5c4c",
   "metadata": {},
   "outputs": [],
   "source": [
    "terms = [\"homework\",\"tiktok\",\"Essay\",\"ChatGPT\",\"All-Nighter\",\"Energy Drinks\",\"Finals Week\",\"Stress Eating\",\"Midterm\",\"Study Break\"]"
   ]
  },
  {
   "cell_type": "code",
   "execution_count": 12,
   "id": "d13bc67e-12d8-4962-83c7-402732293e2d",
   "metadata": {},
   "outputs": [],
   "source": [
    "#embeddings = list(map(generate_embedding,concepts))\n",
    "#embeddings = list(map(amp_encoder,embeddings))\n",
    "\n",
    "embeddings = QuantumEmbedder(\"terms\")"
   ]
  },
  {
   "cell_type": "code",
   "execution_count": 13,
   "id": "1802b666-e4ed-4934-b8c1-4a7ee08e102f",
   "metadata": {},
   "outputs": [
    {
     "data": {
      "text/plain": [
       "{'homework': tensor(-0.11038017+0.j, requires_grad=True),\n",
       " 'tiktok': tensor(0.12338762+0.j, requires_grad=True),\n",
       " 'Essay': tensor(0.18366161+0.j, requires_grad=True),\n",
       " 'ChatGPT': tensor(-0.12302122+0.j, requires_grad=True),\n",
       " 'All-Nighter': tensor(0.00472608+0.j, requires_grad=True),\n",
       " 'Energy Drinks': tensor(0.04161012+0.j, requires_grad=True),\n",
       " 'Finals Week': tensor(-0.09535747+0.j, requires_grad=True),\n",
       " 'Stress Eating': tensor(-0.12494485+0.j, requires_grad=True),\n",
       " 'Midterm': tensor(0.09434985+0.j, requires_grad=True),\n",
       " 'Study Break': tensor(-0.01931653+0.j, requires_grad=True)}"
      ]
     },
     "execution_count": 13,
     "metadata": {},
     "output_type": "execute_result"
    }
   ],
   "source": [
    "results = dict(zip(terms,embeddings))\n",
    "results"
   ]
  },
  {
   "cell_type": "code",
   "execution_count": 21,
   "id": "bc950233-8d9d-40b5-bd29-1bae7b73332b",
   "metadata": {},
   "outputs": [
    {
     "name": "stdout",
     "output_type": "stream",
     "text": [
      "1) Finals Week\n",
      "2) Stress Eating\n",
      "3) Study Break\n",
      "4) homework\n",
      "5) tiktok\n"
     ]
    }
   ],
   "source": [
    "#cosine_similarity(results[\"Finals Week\"],results[\"All-Nighter\"])\n",
    "for i,res in enumerate(quantum_similarity(\"Finals Week\",results)):\n",
    "    print(f\"{i+1}) {res}\") \n"
   ]
  },
  {
   "cell_type": "markdown",
   "id": "74406a95-a73f-44cb-b187-6c26287d6e36",
   "metadata": {},
   "source": [
    "### Not that great since I could only work with maximun 25 dimenstions, but hopefully will improve overtime when more progress is made in the Quantum space."
   ]
  },
  {
   "cell_type": "code",
   "execution_count": null,
   "id": "3c88c4c1-4fbc-4ba3-8e25-b1282e5ca2d2",
   "metadata": {},
   "outputs": [],
   "source": []
  }
 ],
 "metadata": {
  "kernelspec": {
   "display_name": "Python 3 (ipykernel)",
   "language": "python",
   "name": "python3"
  },
  "language_info": {
   "codemirror_mode": {
    "name": "ipython",
    "version": 3
   },
   "file_extension": ".py",
   "mimetype": "text/x-python",
   "name": "python",
   "nbconvert_exporter": "python",
   "pygments_lexer": "ipython3",
   "version": "3.10.12"
  }
 },
 "nbformat": 4,
 "nbformat_minor": 5
}
